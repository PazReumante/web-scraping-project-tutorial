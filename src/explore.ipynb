{
    "cells": [
        {
            "cell_type": "markdown",
            "metadata": {},
            "source": [
                "# Explore here\n",
                "\n",
                "It's recommended to use this notebook for exploration purposes."
            ]
        },
        {
            "cell_type": "code",
            "execution_count": null,
            "metadata": {},
            "outputs": [],
            "source": [
                "import os\n",
                "from bs4 import BeautifulSoup\n",
                "import requests\n",
                "import time\n",
                "import sqlite3\n",
                "import matplotlib.pyplot as plt\n",
                "import seaborn as sns\n",
                "import pandas as pd\n",
                "\n"
            ]
        },
        {
            "cell_type": "code",
            "execution_count": null,
            "metadata": {},
            "outputs": [],
            "source": [
                "#DOWNLOAD HTML\n",
                "\n",
                "url = \"https://es.wikipedia.org/wiki/Leucocito\"\n",
                "html_data = requests.get(url, time.sleep(2)).text\n",
                "html_data"
            ]
        },
        {
            "cell_type": "code",
            "execution_count": null,
            "metadata": {},
            "outputs": [],
            "source": [
                "#TRANFORM HTML\n",
                "\n",
                "soup = BeautifulSoup(html_data)\n",
                "html_table = soup.find(\"table\",{\"class\":\"wikitable\"})\n",
                "html_table"
            ]
        },
        {
            "cell_type": "code",
            "execution_count": null,
            "metadata": {},
            "outputs": [],
            "source": [
                "#FINDING THE TABLES\n",
                "\n",
                "for row_index, row in enumerate(html_table.tbody.find_all('tr')):\n",
                "   print(row_index, row)"
            ]
        },
        {
            "cell_type": "code",
            "execution_count": null,
            "metadata": {},
            "outputs": [],
            "source": [
                "#BUILDING THE DATA FRAME\n",
                "\n",
                "arr_data = []\n",
                "\n",
                "for row_index, row in enumerate(html_table.tbody.find_all('tr')):\n",
                "   arr_cells_data = []\n",
                "   if row_index == 0:\n",
                "      for cell in row.find_all('th'):\n",
                "         arr_cells_data.append(cell.get_text(strip=True))\n",
                "   else:\n",
                "      for cell in row.find_all('td'):\n",
                "         arr_cells_data.append(cell.get_text(strip=True))\n",
                "   \n",
                "   arr_data.append(arr_cells_data)\n",
                "\n",
                "arr_data"
            ]
        },
        {
            "cell_type": "code",
            "execution_count": null,
            "metadata": {},
            "outputs": [],
            "source": [
                "#SELECTING THE DATA BASE\n",
                "\n",
                "df = pd.DataFrame(arr_data[1:], columns=arr_data[:1])\n",
                "df\n",
                "data_selection = df[['Tipo','Porcentaje aproximado en adultos']]\n",
                "data_selection\n"
            ]
        },
        {
            "cell_type": "code",
            "execution_count": null,
            "metadata": {},
            "outputs": [],
            "source": [
                "#CREATING THE GRAPHS TO DISPLAY AND ANALYSE THE DATA\n",
                "\n",
                "# Creating the DataFrame\n",
                "df = pd.DataFrame(arr_data[1:], columns=arr_data[0])\n",
                "\n",
                "# Selecting the desired columns\n",
                "data_selection = df[['Tipo', 'Porcentaje aproximado en adultos']]\n",
                "\n",
                "# Removing percentage symbols and converting to numeric\n",
                "data_selection['Porcentaje aproximado en adultos'] = data_selection['Porcentaje aproximado en adultos'].str.rstrip('%').astype(float)\n",
                "\n",
                "# Create subplots\n",
                "fig, axes = plt.subplots(1, 3, figsize=(18, 6))\n",
                "\n",
                "# Plot 1: Bar plot\n",
                "axes[0].bar(data_selection['Tipo'], data_selection['Porcentaje aproximado en adultos'])\n",
                "axes[0].set_xlabel('Tipo')\n",
                "axes[0].set_ylabel('Porcentaje aproximado en adultos')\n",
                "axes[0].set_title('Leucocyte analysis nº 1')\n",
                "\n",
                "# Plot 2: Scatter plot\n",
                "axes[1].scatter(data_selection['Tipo'], data_selection['Porcentaje aproximado en adultos'])\n",
                "axes[1].set_xlabel('Tipo')\n",
                "axes[1].set_ylabel('Porcentaje aproximado en adultos')\n",
                "axes[1].set_title('Leucocyte analysis nº 2')\n",
                "\n",
                "# Plot 3: Line plot\n",
                "axes[2].plot(data_selection['Tipo'], data_selection['Porcentaje aproximado en adultos'])\n",
                "axes[2].set_xlabel('Tipo')\n",
                "axes[2].set_ylabel('Porcentaje aproximado en adultos')\n",
                "axes[2].set_title('Leucocyte analysis nº 3')\n",
                "\n",
                "# Adjust layout\n",
                "plt.tight_layout()\n",
                "\n",
                "# Show plots\n",
                "plt.show()\n"
            ]
        }
    ],
    "metadata": {
        "kernelspec": {
            "display_name": "Python 3.8.13 64-bit ('3.8.13')",
            "language": "python",
            "name": "python3"
        },
        "language_info": {
            "codemirror_mode": {
                "name": "ipython",
                "version": 3
            },
            "file_extension": ".py",
            "mimetype": "text/x-python",
            "name": "python",
            "nbconvert_exporter": "python",
            "pygments_lexer": "ipython3",
            "version": "3.11.4"
        },
        "orig_nbformat": 4,
        "vscode": {
            "interpreter": {
                "hash": "110cc1dee26208153f2972f08a2ad52b6a56238dc66d48e87fb757ef2996db56"
            }
        }
    },
    "nbformat": 4,
    "nbformat_minor": 2
}
